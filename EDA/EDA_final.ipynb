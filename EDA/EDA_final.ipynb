{
 "cells": [
  {
   "cell_type": "markdown",
   "id": "8f9e7e93",
   "metadata": {},
   "source": [
    "1. Require Libraries"
   ]
  },
  {
   "cell_type": "code",
   "execution_count": 30,
   "id": "1273f368",
   "metadata": {},
   "outputs": [],
   "source": [
    "import pandas as pd\n",
    "import numpy as np\n",
    "import time\n",
    "import matplotlib.pyplot as plt"
   ]
  },
  {
   "cell_type": "markdown",
   "id": "d9e40f9c",
   "metadata": {},
   "source": [
    "2. Load Dataset"
   ]
  },
  {
   "cell_type": "markdown",
   "id": "b3b7e24a",
   "metadata": {},
   "source": [
    "We use the sample user behaviors to do exploratory data analysis. "
   ]
  },
  {
   "cell_type": "code",
   "execution_count": 31,
   "id": "b1025ccb",
   "metadata": {},
   "outputs": [],
   "source": [
    "df = pd.read_csv(\"Sampled_UserBehavior.csv\")"
   ]
  },
  {
   "cell_type": "code",
   "execution_count": 32,
   "id": "71a4c42b",
   "metadata": {},
   "outputs": [
    {
     "data": {
      "text/html": [
       "<div>\n",
       "<style scoped>\n",
       "    .dataframe tbody tr th:only-of-type {\n",
       "        vertical-align: middle;\n",
       "    }\n",
       "\n",
       "    .dataframe tbody tr th {\n",
       "        vertical-align: top;\n",
       "    }\n",
       "\n",
       "    .dataframe thead th {\n",
       "        text-align: right;\n",
       "    }\n",
       "</style>\n",
       "<table border=\"1\" class=\"dataframe\">\n",
       "  <thead>\n",
       "    <tr style=\"text-align: right;\">\n",
       "      <th></th>\n",
       "      <th>User_ID</th>\n",
       "      <th>Item_ID</th>\n",
       "      <th>Categorical_ID</th>\n",
       "      <th>Behavior</th>\n",
       "      <th>Timestamp</th>\n",
       "    </tr>\n",
       "  </thead>\n",
       "  <tbody>\n",
       "    <tr>\n",
       "      <th>1792</th>\n",
       "      <td>1000061</td>\n",
       "      <td>1288773</td>\n",
       "      <td>1735195</td>\n",
       "      <td>pv</td>\n",
       "      <td>1511576626</td>\n",
       "    </tr>\n",
       "    <tr>\n",
       "      <th>1793</th>\n",
       "      <td>1000061</td>\n",
       "      <td>4074215</td>\n",
       "      <td>4684862</td>\n",
       "      <td>pv</td>\n",
       "      <td>1511677113</td>\n",
       "    </tr>\n",
       "    <tr>\n",
       "      <th>1794</th>\n",
       "      <td>1000061</td>\n",
       "      <td>1120968</td>\n",
       "      <td>512076</td>\n",
       "      <td>pv</td>\n",
       "      <td>1511685194</td>\n",
       "    </tr>\n",
       "    <tr>\n",
       "      <th>1795</th>\n",
       "      <td>1000061</td>\n",
       "      <td>4862918</td>\n",
       "      <td>3164550</td>\n",
       "      <td>cart</td>\n",
       "      <td>1511686985</td>\n",
       "    </tr>\n",
       "    <tr>\n",
       "      <th>1796</th>\n",
       "      <td>1000061</td>\n",
       "      <td>3150019</td>\n",
       "      <td>3164550</td>\n",
       "      <td>cart</td>\n",
       "      <td>1511687015</td>\n",
       "    </tr>\n",
       "  </tbody>\n",
       "</table>\n",
       "</div>"
      ],
      "text/plain": [
       "      User_ID  Item_ID  Categorical_ID Behavior   Timestamp\n",
       "1792  1000061  1288773         1735195       pv  1511576626\n",
       "1793  1000061  4074215         4684862       pv  1511677113\n",
       "1794  1000061  1120968          512076       pv  1511685194\n",
       "1795  1000061  4862918         3164550     cart  1511686985\n",
       "1796  1000061  3150019         3164550     cart  1511687015"
      ]
     },
     "execution_count": 32,
     "metadata": {},
     "output_type": "execute_result"
    }
   ],
   "source": [
    "column_names = ['User_ID', 'Item_ID', 'Categorical_ID','Behavior','Timestamp']\n",
    "df = pd.read_csv(\"Sampled_UserBehavior.csv\", header=0, names=column_names)\n",
    "df.head()"
   ]
  },
  {
   "cell_type": "code",
   "execution_count": 33,
   "id": "f3d002f6",
   "metadata": {},
   "outputs": [
    {
     "name": "stdout",
     "output_type": "stream",
     "text": [
      "<class 'pandas.core.frame.DataFrame'>\n",
      "Int64Index: 998586 entries, 1792 to 100148375\n",
      "Data columns (total 5 columns):\n",
      " #   Column          Non-Null Count   Dtype \n",
      "---  ------          --------------   ----- \n",
      " 0   User_ID         998586 non-null  int64 \n",
      " 1   Item_ID         998586 non-null  int64 \n",
      " 2   Categorical_ID  998586 non-null  int64 \n",
      " 3   Behavior        998586 non-null  object\n",
      " 4   Timestamp       998586 non-null  int64 \n",
      "dtypes: int64(4), object(1)\n",
      "memory usage: 45.7+ MB\n"
     ]
    }
   ],
   "source": [
    "df.info()"
   ]
  },
  {
   "cell_type": "markdown",
   "id": "70a379d3",
   "metadata": {},
   "source": [
    "3. Check Data Integrity"
   ]
  },
  {
   "cell_type": "markdown",
   "id": "beb4e1ab",
   "metadata": {},
   "source": [
    "1) We first check if there exists any duplicated rows."
   ]
  },
  {
   "cell_type": "code",
   "execution_count": 34,
   "id": "9d6374b0",
   "metadata": {},
   "outputs": [],
   "source": [
    "duplicate_rows = df[df.duplicated()]\n",
    "duplicate_rows_count = duplicate_rows.shape[0]"
   ]
  },
  {
   "cell_type": "code",
   "execution_count": 35,
   "id": "95b39bc5",
   "metadata": {},
   "outputs": [
    {
     "name": "stdout",
     "output_type": "stream",
     "text": [
      "Empty DataFrame\n",
      "Columns: [User_ID, Item_ID, Categorical_ID, Behavior, Timestamp]\n",
      "Index: []\n",
      "Number of duplicated rows: 0\n"
     ]
    }
   ],
   "source": [
    "print(duplicate_rows)\n",
    "print(\"Number of duplicated rows:\", duplicate_rows_count)"
   ]
  },
  {
   "cell_type": "markdown",
   "id": "518769cd",
   "metadata": {},
   "source": [
    "There is no duplicate rows. "
   ]
  },
  {
   "cell_type": "markdown",
   "id": "da3e79fe",
   "metadata": {},
   "source": [
    "Check whether there are any duplicated columns."
   ]
  },
  {
   "cell_type": "markdown",
   "id": "7ed0ada1",
   "metadata": {},
   "source": [
    "2) Then, we check whether there are any missing values in the dataset. "
   ]
  },
  {
   "cell_type": "code",
   "execution_count": 36,
   "id": "db2fb0a5",
   "metadata": {},
   "outputs": [
    {
     "data": {
      "text/plain": [
       "User_ID           0\n",
       "Item_ID           0\n",
       "Categorical_ID    0\n",
       "Behavior          0\n",
       "Timestamp         0\n",
       "dtype: int64"
      ]
     },
     "execution_count": 36,
     "metadata": {},
     "output_type": "execute_result"
    }
   ],
   "source": [
    "df.isnull().sum()"
   ]
  },
  {
   "cell_type": "markdown",
   "id": "a0f772c7",
   "metadata": {},
   "source": [
    "There is no missing value in this dataset. "
   ]
  },
  {
   "cell_type": "markdown",
   "id": "15ee090b",
   "metadata": {},
   "source": [
    "4.Timestamp to Date"
   ]
  },
  {
   "cell_type": "markdown",
   "id": "57949e69",
   "metadata": {},
   "source": [
    "We convert the Timestamp to a time unit -- Date."
   ]
  },
  {
   "cell_type": "code",
   "execution_count": 37,
   "id": "b4fb462d",
   "metadata": {},
   "outputs": [],
   "source": [
    "df['Date'] = pd.to_datetime(df['Timestamp'], unit='s').dt.date"
   ]
  },
  {
   "cell_type": "code",
   "execution_count": 38,
   "id": "27d04c0b",
   "metadata": {},
   "outputs": [
    {
     "name": "stdout",
     "output_type": "stream",
     "text": [
      "2017-12-02    139670\n",
      "2017-12-03    122451\n",
      "2017-12-01    112001\n",
      "2017-11-26    105262\n",
      "2017-11-30    105068\n",
      "2017-11-25    102365\n",
      "2017-11-29    100395\n",
      "2017-11-28     99709\n",
      "2017-11-27     99069\n",
      "2017-11-24     12447\n",
      "2017-11-23        62\n",
      "2017-11-18        25\n",
      "2017-11-22        17\n",
      "2019-11-01        14\n",
      "2017-11-16         5\n",
      "2017-11-19         5\n",
      "2017-11-21         4\n",
      "2017-11-11         3\n",
      "2017-11-12         2\n",
      "2017-11-14         2\n",
      "2017-11-20         2\n",
      "2017-10-21         2\n",
      "2017-10-29         1\n",
      "2017-11-10         1\n",
      "2017-11-15         1\n",
      "2017-11-13         1\n",
      "2017-11-02         1\n",
      "2017-11-05         1\n",
      "Name: Date, dtype: int64\n"
     ]
    }
   ],
   "source": [
    "# Print the count of each unique date\n",
    "print(df[\"Date\"].value_counts())"
   ]
  },
  {
   "cell_type": "code",
   "execution_count": 39,
   "id": "a443b8a4",
   "metadata": {},
   "outputs": [
    {
     "name": "stdout",
     "output_type": "stream",
     "text": [
      "2017-12-02    139670\n",
      "2017-12-03    122451\n",
      "2017-12-01    112001\n",
      "2017-11-26    105262\n",
      "2017-11-30    105068\n",
      "2017-11-25    102365\n",
      "2017-11-29    100395\n",
      "2017-11-28     99709\n",
      "2017-11-27     99069\n",
      "Name: Date, dtype: int64\n"
     ]
    }
   ],
   "source": [
    "# Filter the DataFrame for the specific date range\n",
    "cleaned_df = df[(df[\"Date\"] >= pd.to_datetime('2017-11-25').date()) & (df[\"Date\"] <= pd.to_datetime('2017-12-03').date())]\n",
    "\n",
    "# Print the count of each unique date in the filtered DataFrame\n",
    "print(cleaned_df[\"Date\"].value_counts())"
   ]
  },
  {
   "cell_type": "code",
   "execution_count": 40,
   "id": "d4fe47c6",
   "metadata": {},
   "outputs": [],
   "source": [
    "cleaned_df.index = range(1, len(cleaned_df)+1)"
   ]
  },
  {
   "cell_type": "code",
   "execution_count": 41,
   "id": "96c5f13e",
   "metadata": {},
   "outputs": [],
   "source": [
    "cleaned_df.to_csv(\"Sampled_UserBehavior_cleaned.csv\")"
   ]
  },
  {
   "cell_type": "markdown",
   "id": "a564a2a2",
   "metadata": {},
   "source": [
    "5. Check the dimensions of the data."
   ]
  },
  {
   "cell_type": "code",
   "execution_count": 42,
   "id": "ae8c9f43",
   "metadata": {},
   "outputs": [],
   "source": [
    "df = cleaned_df"
   ]
  },
  {
   "cell_type": "code",
   "execution_count": 43,
   "id": "0db35513",
   "metadata": {},
   "outputs": [
    {
     "data": {
      "text/html": [
       "<div>\n",
       "<style scoped>\n",
       "    .dataframe tbody tr th:only-of-type {\n",
       "        vertical-align: middle;\n",
       "    }\n",
       "\n",
       "    .dataframe tbody tr th {\n",
       "        vertical-align: top;\n",
       "    }\n",
       "\n",
       "    .dataframe thead th {\n",
       "        text-align: right;\n",
       "    }\n",
       "</style>\n",
       "<table border=\"1\" class=\"dataframe\">\n",
       "  <thead>\n",
       "    <tr style=\"text-align: right;\">\n",
       "      <th></th>\n",
       "      <th>User_ID</th>\n",
       "      <th>Item_ID</th>\n",
       "      <th>Categorical_ID</th>\n",
       "      <th>Behavior</th>\n",
       "      <th>Timestamp</th>\n",
       "      <th>Date</th>\n",
       "    </tr>\n",
       "  </thead>\n",
       "  <tbody>\n",
       "    <tr>\n",
       "      <th>1</th>\n",
       "      <td>1000061</td>\n",
       "      <td>1288773</td>\n",
       "      <td>1735195</td>\n",
       "      <td>pv</td>\n",
       "      <td>1511576626</td>\n",
       "      <td>2017-11-25</td>\n",
       "    </tr>\n",
       "    <tr>\n",
       "      <th>2</th>\n",
       "      <td>1000061</td>\n",
       "      <td>4074215</td>\n",
       "      <td>4684862</td>\n",
       "      <td>pv</td>\n",
       "      <td>1511677113</td>\n",
       "      <td>2017-11-26</td>\n",
       "    </tr>\n",
       "    <tr>\n",
       "      <th>3</th>\n",
       "      <td>1000061</td>\n",
       "      <td>1120968</td>\n",
       "      <td>512076</td>\n",
       "      <td>pv</td>\n",
       "      <td>1511685194</td>\n",
       "      <td>2017-11-26</td>\n",
       "    </tr>\n",
       "    <tr>\n",
       "      <th>4</th>\n",
       "      <td>1000061</td>\n",
       "      <td>4862918</td>\n",
       "      <td>3164550</td>\n",
       "      <td>cart</td>\n",
       "      <td>1511686985</td>\n",
       "      <td>2017-11-26</td>\n",
       "    </tr>\n",
       "    <tr>\n",
       "      <th>5</th>\n",
       "      <td>1000061</td>\n",
       "      <td>3150019</td>\n",
       "      <td>3164550</td>\n",
       "      <td>cart</td>\n",
       "      <td>1511687015</td>\n",
       "      <td>2017-11-26</td>\n",
       "    </tr>\n",
       "    <tr>\n",
       "      <th>...</th>\n",
       "      <td>...</td>\n",
       "      <td>...</td>\n",
       "      <td>...</td>\n",
       "      <td>...</td>\n",
       "      <td>...</td>\n",
       "      <td>...</td>\n",
       "    </tr>\n",
       "    <tr>\n",
       "      <th>985986</th>\n",
       "      <td>999949</td>\n",
       "      <td>2652397</td>\n",
       "      <td>2355072</td>\n",
       "      <td>pv</td>\n",
       "      <td>1512268408</td>\n",
       "      <td>2017-12-03</td>\n",
       "    </tr>\n",
       "    <tr>\n",
       "      <th>985987</th>\n",
       "      <td>999949</td>\n",
       "      <td>694434</td>\n",
       "      <td>2355072</td>\n",
       "      <td>pv</td>\n",
       "      <td>1512268415</td>\n",
       "      <td>2017-12-03</td>\n",
       "    </tr>\n",
       "    <tr>\n",
       "      <th>985988</th>\n",
       "      <td>999949</td>\n",
       "      <td>552658</td>\n",
       "      <td>737184</td>\n",
       "      <td>pv</td>\n",
       "      <td>1512268526</td>\n",
       "      <td>2017-12-03</td>\n",
       "    </tr>\n",
       "    <tr>\n",
       "      <th>985989</th>\n",
       "      <td>999949</td>\n",
       "      <td>4016076</td>\n",
       "      <td>1521931</td>\n",
       "      <td>pv</td>\n",
       "      <td>1512274117</td>\n",
       "      <td>2017-12-03</td>\n",
       "    </tr>\n",
       "    <tr>\n",
       "      <th>985990</th>\n",
       "      <td>999949</td>\n",
       "      <td>424771</td>\n",
       "      <td>375240</td>\n",
       "      <td>pv</td>\n",
       "      <td>1512274628</td>\n",
       "      <td>2017-12-03</td>\n",
       "    </tr>\n",
       "  </tbody>\n",
       "</table>\n",
       "<p>985990 rows × 6 columns</p>\n",
       "</div>"
      ],
      "text/plain": [
       "        User_ID  Item_ID  Categorical_ID Behavior   Timestamp        Date\n",
       "1       1000061  1288773         1735195       pv  1511576626  2017-11-25\n",
       "2       1000061  4074215         4684862       pv  1511677113  2017-11-26\n",
       "3       1000061  1120968          512076       pv  1511685194  2017-11-26\n",
       "4       1000061  4862918         3164550     cart  1511686985  2017-11-26\n",
       "5       1000061  3150019         3164550     cart  1511687015  2017-11-26\n",
       "...         ...      ...             ...      ...         ...         ...\n",
       "985986   999949  2652397         2355072       pv  1512268408  2017-12-03\n",
       "985987   999949   694434         2355072       pv  1512268415  2017-12-03\n",
       "985988   999949   552658          737184       pv  1512268526  2017-12-03\n",
       "985989   999949  4016076         1521931       pv  1512274117  2017-12-03\n",
       "985990   999949   424771          375240       pv  1512274628  2017-12-03\n",
       "\n",
       "[985990 rows x 6 columns]"
      ]
     },
     "execution_count": 43,
     "metadata": {},
     "output_type": "execute_result"
    }
   ],
   "source": [
    "df"
   ]
  },
  {
   "cell_type": "code",
   "execution_count": 14,
   "id": "ffcf5551",
   "metadata": {},
   "outputs": [
    {
     "data": {
      "text/plain": [
       "(985990, 6)"
      ]
     },
     "execution_count": 14,
     "metadata": {},
     "output_type": "execute_result"
    }
   ],
   "source": [
    "np.shape(df)"
   ]
  },
  {
   "cell_type": "markdown",
   "id": "36fc3bd3",
   "metadata": {},
   "source": [
    "6. Check the number of unique values of each column in the dataset. "
   ]
  },
  {
   "cell_type": "code",
   "execution_count": 15,
   "id": "acd02aa4",
   "metadata": {},
   "outputs": [],
   "source": [
    "unique_counts = df.nunique()"
   ]
  },
  {
   "cell_type": "code",
   "execution_count": 16,
   "id": "19fdde9c",
   "metadata": {},
   "outputs": [
    {
     "data": {
      "text/plain": [
       "User_ID             9820\n",
       "Item_ID           396855\n",
       "Categorical_ID      5843\n",
       "Behavior               4\n",
       "Timestamp         488038\n",
       "Date                   9\n",
       "dtype: int64"
      ]
     },
     "execution_count": 16,
     "metadata": {},
     "output_type": "execute_result"
    }
   ],
   "source": [
    "unique_counts"
   ]
  },
  {
   "cell_type": "markdown",
   "id": "0f3e7d52",
   "metadata": {},
   "source": [
    "7. Check the number of different types of behaviors."
   ]
  },
  {
   "cell_type": "code",
   "execution_count": 17,
   "id": "1f5ff2cf",
   "metadata": {},
   "outputs": [
    {
     "name": "stdout",
     "output_type": "stream",
     "text": [
      "Counter({'pv': 882949, 'cart': 55229, 'fav': 28407, 'buy': 19405})\n"
     ]
    }
   ],
   "source": [
    "from collections import Counter\n",
    "print(Counter(df['Behavior']))"
   ]
  },
  {
   "cell_type": "markdown",
   "id": "2286b689",
   "metadata": {},
   "source": [
    "The dataset contains all behaviors(including Page Views, Cart, Favorite, Purchases) of 9840 random users who were active between November 25, 2017, and December 3, 2017. Each row in the dataset represents a single user action and consist of the User ID, Item ID, Category ID, Behavior, and Timestamp. "
   ]
  },
  {
   "cell_type": "markdown",
   "id": "234ec249",
   "metadata": {},
   "source": [
    "8. Variable Frequency Distribution"
   ]
  },
  {
   "cell_type": "code",
   "execution_count": 18,
   "id": "10afa495",
   "metadata": {},
   "outputs": [
    {
     "data": {
      "image/png": "[encoded data removed]",
      "text/plain": [
       "<Figure size 720x576 with 4 Axes>"
      ]
     },
     "metadata": {
      "needs_background": "light"
     },
     "output_type": "display_data"
    }
   ],
   "source": [
    "fig, axs = plt.subplots(2, 2, figsize=(10, 8))\n",
    "\n",
    "# Counting the occurrences of each behavior type\n",
    "behavior_counts = df[\"Behavior\"].value_counts()\n",
    "\n",
    "# Plot histograms of counts of unique values for each column\n",
    "axs[0, 0].hist(df[\"User_ID\"].value_counts(), bins=30, color='blue', alpha=0.7)\n",
    "axs[0, 0].set_title('Histogram UserID')\n",
    "\n",
    "axs[0, 1].hist(df[\"Item_ID\"].value_counts(), bins=80, color='green', alpha=0.7)\n",
    "axs[0, 1].set_title('Histogram ItemID')\n",
    "axs[0, 1].set_xlim([df[\"Item_ID\"].value_counts().min(), df[\"Item_ID\"].value_counts().max()])\n",
    "\n",
    "axs[1, 0].hist(df[\"Categorical_ID\"].value_counts(), bins=30, color='orange',alpha=0.7)\n",
    "axs[1, 0].set_title('Histogram ItemCategoryID')\n",
    "axs[1, 0].set_xlim([df[\"Categorical_ID\"].value_counts().min(), df[\"Categorical_ID\"].value_counts().max()])\n",
    "\n",
    "# Bar plot for Behavior type\n",
    "axs[1, 1].bar(behavior_counts.index, behavior_counts.values, color='red', alpha=0.7)\n",
    "axs[1, 1].set_title('Bar Plot BehaviorType')\n",
    "\n",
    "plt.tight_layout()"
   ]
  },
  {
   "cell_type": "code",
   "execution_count": 19,
   "id": "63c00060",
   "metadata": {},
   "outputs": [
    {
     "data": {
      "image/png": "[encoded data removed]",
      "text/plain": [
       "<Figure size 1080x864 with 9 Axes>"
      ]
     },
     "metadata": {
      "needs_background": "light"
     },
     "output_type": "display_data"
    }
   ],
   "source": [
    "fig, axs = plt.subplots(3, 3, figsize=(15, 12))\n",
    "\n",
    "# Histogram\n",
    "axs[0, 0].hist(df[\"User_ID\"].value_counts(), bins=30, color='blue', alpha=0.7)\n",
    "axs[0, 0].set_title('Histogram UserID')\n",
    "\n",
    "axs[0, 1].hist(df[\"Item_ID\"].value_counts(), bins=40, color='green', alpha=0.7)\n",
    "axs[0, 1].set_title('Histogram ItemID')\n",
    "\n",
    "axs[0, 2].hist(df[\"Categorical_ID\"].value_counts(), bins=40, color='orange', alpha=0.7)\n",
    "axs[0, 2].set_title('Histogram ItemCategoryID')\n",
    "\n",
    "# Box Plots\n",
    "axs[1, 0].hist(df[\"User_ID\"].value_counts(), bins=30, color='blue', alpha=0.7, log=True)\n",
    "axs[1, 0].set_title('Log Transformed Histogram UserID')\n",
    "\n",
    "axs[1, 1].hist(df[\"Item_ID\"].value_counts(), bins=40, color='green', alpha=0.7, log=True)\n",
    "axs[1, 1].set_title('Log Transformed Histogram ItemID')\n",
    "\n",
    "axs[1, 2].hist(df[\"Categorical_ID\"].value_counts(), bins=40, color='orange', alpha=0.7, log=True)\n",
    "axs[1, 2].set_title('Log Transformed Histogram ItemCategoryID')\n",
    "\n",
    "# Histograms with Logarithmic Transformation\n",
    "axs[2, 0].boxplot(df[\"User_ID\"].value_counts())\n",
    "axs[2, 0].set_title('Box Plot UserID')\n",
    "\n",
    "axs[2, 1].boxplot(df[\"Item_ID\"].value_counts())\n",
    "axs[2, 1].set_title('Box Plot ItemID')\n",
    "\n",
    "axs[2, 2].boxplot(df[\"Categorical_ID\"].value_counts())\n",
    "axs[2, 2].set_title('Box Plot ItemCategoryID')\n",
    "\n",
    "plt.tight_layout()\n",
    "plt.show()\n"
   ]
  },
  {
   "cell_type": "markdown",
   "id": "f1d8323a",
   "metadata": {},
   "source": [
    "9. Check the number of different behaviors in each date."
   ]
  },
  {
   "cell_type": "code",
   "execution_count": null,
   "id": "389632a9",
   "metadata": {},
   "outputs": [],
   "source": [
    "df['Behavior1']=df['Behavior'].map({'pv':1,'cart':2,'fav':3,'buy':4})\n",
    "df['Behavior1']=df['Behavior1'].apply(lambda x: list(str(x)))\n",
    "a = df.groupby('Date')['Behavior1'].sum()\n",
    "a = pd.DataFrame(a)\n",
    "a"
   ]
  },
  {
   "cell_type": "code",
   "execution_count": null,
   "id": "e153ebb4",
   "metadata": {},
   "outputs": [],
   "source": [
    "print(Counter(a['Behavior1'].iloc[0]))"
   ]
  },
  {
   "cell_type": "code",
   "execution_count": null,
   "id": "028e5c2b",
   "metadata": {},
   "outputs": [],
   "source": [
    "#获取'pv','fav','cart','buy'数据\n",
    "item = pd.DataFrame(columns=['pv','fav','cart','buy'],index=['12/1','12/2','12/3','11/25','11/26','11/27','11/28','11/29','11/30'])\n",
    "for i in range(9):\n",
    "    x = Counter(a['Behavior1'].iloc[i])\n",
    "    it = list(x.values())\n",
    "    item.iloc[i] = it\n",
    "        \n",
    "item"
   ]
  },
  {
   "cell_type": "markdown",
   "id": "ef0a3404",
   "metadata": {},
   "source": [
    "10.1 Check the number of user-item pairs with deplicated behaviors. "
   ]
  },
  {
   "cell_type": "code",
   "execution_count": 21,
   "id": "08dce97b",
   "metadata": {},
   "outputs": [],
   "source": [
    "#df_drop = df.drop([\"Timestamp\", \"Date\",\"Behavior1\"],axis=1)\n",
    "#duplicate_rows_drop = df_drop[df_drop.duplicated()]\n",
    "#duplicate_rows_count_drop = duplicate_rows_drop.shape[0]\n",
    "#print(\"Total number of rows:\", df_drop.shape[0])\n",
    "#print(\"Number of user-item pairs with duplicated behaviors:\", duplicate_rows_count_drop)"
   ]
  },
  {
   "cell_type": "markdown",
   "id": "73a509f1",
   "metadata": {},
   "source": [
    "10.2 Check the number of user-item pairs with specific behaviors."
   ]
  },
  {
   "cell_type": "code",
   "execution_count": null,
   "id": "97f5f581",
   "metadata": {},
   "outputs": [],
   "source": [
    "from collections import Counter\n",
    "print(Counter(duplicate_rows_drop['Behavior']))"
   ]
  },
  {
   "cell_type": "markdown",
   "id": "d373c626",
   "metadata": {},
   "source": [
    "We can see that customers are likely to click on an item multiples times."
   ]
  },
  {
   "cell_type": "code",
   "execution_count": null,
   "id": "05af0c49",
   "metadata": {},
   "outputs": [],
   "source": [
    "# Counting the frequency of each duplicate row\n",
    "frequency = duplicate_rows_drop.groupby(list(df_drop.columns)).size()\n",
    "\n",
    "# Getting the maximum number of duplicates\n",
    "max_duplicates = frequency.max()\n",
    "\n",
    "print(\"Maximum number of user-item pair duplicate behaviors:\", max_duplicates)"
   ]
  },
  {
   "cell_type": "markdown",
   "id": "2fb9c6e5",
   "metadata": {},
   "source": [
    "11. Data pivoting"
   ]
  },
  {
   "cell_type": "code",
   "execution_count": 22,
   "id": "f0873432",
   "metadata": {},
   "outputs": [],
   "source": [
    "df = pd.read_csv('Sampled_UserBehavior_cleaned.csv').iloc[:, 1:]\n",
    "def data_pivot(df):\n",
    "    # df = pd.read_csv('../data/UserBehavior10000.csv').iloc[:, 1:]\n",
    "    df = df.drop(\"Date\",axis=1)\n",
    "    df.columns = ['UserID', 'ItemID', 'ItemCategoryID', 'BehaviorType', 'TimeStamp']\n",
    "\n",
    "    # Pivot by behavior type, but dropping timestamp\n",
    "    pivot_df = pd.pivot_table(df, values='BehaviorType', index=['UserID', 'ItemID', 'ItemCategoryID'], columns='BehaviorType', aggfunc='any')\n",
    "    pivot_df.reset_index(inplace=True)\n",
    "    return pivot_df"
   ]
  },
  {
   "cell_type": "code",
   "execution_count": 23,
   "id": "e73d6631",
   "metadata": {},
   "outputs": [],
   "source": [
    "pivot_df = data_pivot(df)"
   ]
  },
  {
   "cell_type": "code",
   "execution_count": 24,
   "id": "f2ac4c85",
   "metadata": {},
   "outputs": [
    {
     "data": {
      "text/html": [
       "<div>\n",
       "<style scoped>\n",
       "    .dataframe tbody tr th:only-of-type {\n",
       "        vertical-align: middle;\n",
       "    }\n",
       "\n",
       "    .dataframe tbody tr th {\n",
       "        vertical-align: top;\n",
       "    }\n",
       "\n",
       "    .dataframe thead th {\n",
       "        text-align: right;\n",
       "    }\n",
       "</style>\n",
       "<table border=\"1\" class=\"dataframe\">\n",
       "  <thead>\n",
       "    <tr style=\"text-align: right;\">\n",
       "      <th>BehaviorType</th>\n",
       "      <th>UserID</th>\n",
       "      <th>ItemID</th>\n",
       "      <th>ItemCategoryID</th>\n",
       "      <th>buy</th>\n",
       "      <th>cart</th>\n",
       "      <th>fav</th>\n",
       "      <th>pv</th>\n",
       "    </tr>\n",
       "  </thead>\n",
       "  <tbody>\n",
       "    <tr>\n",
       "      <th>0</th>\n",
       "      <td>253</td>\n",
       "      <td>137988</td>\n",
       "      <td>2409937</td>\n",
       "      <td>NaN</td>\n",
       "      <td>NaN</td>\n",
       "      <td>NaN</td>\n",
       "      <td>True</td>\n",
       "    </tr>\n",
       "    <tr>\n",
       "      <th>1</th>\n",
       "      <td>253</td>\n",
       "      <td>257634</td>\n",
       "      <td>2885642</td>\n",
       "      <td>NaN</td>\n",
       "      <td>NaN</td>\n",
       "      <td>NaN</td>\n",
       "      <td>True</td>\n",
       "    </tr>\n",
       "    <tr>\n",
       "      <th>2</th>\n",
       "      <td>253</td>\n",
       "      <td>500819</td>\n",
       "      <td>2409937</td>\n",
       "      <td>NaN</td>\n",
       "      <td>NaN</td>\n",
       "      <td>NaN</td>\n",
       "      <td>True</td>\n",
       "    </tr>\n",
       "    <tr>\n",
       "      <th>3</th>\n",
       "      <td>253</td>\n",
       "      <td>543072</td>\n",
       "      <td>2885642</td>\n",
       "      <td>NaN</td>\n",
       "      <td>NaN</td>\n",
       "      <td>NaN</td>\n",
       "      <td>True</td>\n",
       "    </tr>\n",
       "    <tr>\n",
       "      <th>4</th>\n",
       "      <td>253</td>\n",
       "      <td>937072</td>\n",
       "      <td>2885642</td>\n",
       "      <td>NaN</td>\n",
       "      <td>NaN</td>\n",
       "      <td>NaN</td>\n",
       "      <td>True</td>\n",
       "    </tr>\n",
       "    <tr>\n",
       "      <th>...</th>\n",
       "      <td>...</td>\n",
       "      <td>...</td>\n",
       "      <td>...</td>\n",
       "      <td>...</td>\n",
       "      <td>...</td>\n",
       "      <td>...</td>\n",
       "      <td>...</td>\n",
       "    </tr>\n",
       "    <tr>\n",
       "      <th>746367</th>\n",
       "      <td>1017952</td>\n",
       "      <td>4011217</td>\n",
       "      <td>3422001</td>\n",
       "      <td>NaN</td>\n",
       "      <td>NaN</td>\n",
       "      <td>NaN</td>\n",
       "      <td>True</td>\n",
       "    </tr>\n",
       "    <tr>\n",
       "      <th>746368</th>\n",
       "      <td>1017952</td>\n",
       "      <td>4183961</td>\n",
       "      <td>4159072</td>\n",
       "      <td>NaN</td>\n",
       "      <td>NaN</td>\n",
       "      <td>NaN</td>\n",
       "      <td>True</td>\n",
       "    </tr>\n",
       "    <tr>\n",
       "      <th>746369</th>\n",
       "      <td>1017952</td>\n",
       "      <td>4490910</td>\n",
       "      <td>411153</td>\n",
       "      <td>NaN</td>\n",
       "      <td>NaN</td>\n",
       "      <td>NaN</td>\n",
       "      <td>True</td>\n",
       "    </tr>\n",
       "    <tr>\n",
       "      <th>746370</th>\n",
       "      <td>1017952</td>\n",
       "      <td>4501732</td>\n",
       "      <td>1573426</td>\n",
       "      <td>NaN</td>\n",
       "      <td>NaN</td>\n",
       "      <td>NaN</td>\n",
       "      <td>True</td>\n",
       "    </tr>\n",
       "    <tr>\n",
       "      <th>746371</th>\n",
       "      <td>1017952</td>\n",
       "      <td>4814776</td>\n",
       "      <td>2885642</td>\n",
       "      <td>NaN</td>\n",
       "      <td>NaN</td>\n",
       "      <td>NaN</td>\n",
       "      <td>True</td>\n",
       "    </tr>\n",
       "  </tbody>\n",
       "</table>\n",
       "<p>746372 rows × 7 columns</p>\n",
       "</div>"
      ],
      "text/plain": [
       "BehaviorType   UserID   ItemID  ItemCategoryID  buy cart  fav    pv\n",
       "0                 253   137988         2409937  NaN  NaN  NaN  True\n",
       "1                 253   257634         2885642  NaN  NaN  NaN  True\n",
       "2                 253   500819         2409937  NaN  NaN  NaN  True\n",
       "3                 253   543072         2885642  NaN  NaN  NaN  True\n",
       "4                 253   937072         2885642  NaN  NaN  NaN  True\n",
       "...               ...      ...             ...  ...  ...  ...   ...\n",
       "746367        1017952  4011217         3422001  NaN  NaN  NaN  True\n",
       "746368        1017952  4183961         4159072  NaN  NaN  NaN  True\n",
       "746369        1017952  4490910          411153  NaN  NaN  NaN  True\n",
       "746370        1017952  4501732         1573426  NaN  NaN  NaN  True\n",
       "746371        1017952  4814776         2885642  NaN  NaN  NaN  True\n",
       "\n",
       "[746372 rows x 7 columns]"
      ]
     },
     "execution_count": 24,
     "metadata": {},
     "output_type": "execute_result"
    }
   ],
   "source": [
    "df = pivot_df\n",
    "df"
   ]
  },
  {
   "cell_type": "code",
   "execution_count": 25,
   "id": "c8c54441",
   "metadata": {},
   "outputs": [
    {
     "data": {
      "text/html": [
       "<div>\n",
       "<style scoped>\n",
       "    .dataframe tbody tr th:only-of-type {\n",
       "        vertical-align: middle;\n",
       "    }\n",
       "\n",
       "    .dataframe tbody tr th {\n",
       "        vertical-align: top;\n",
       "    }\n",
       "\n",
       "    .dataframe thead th {\n",
       "        text-align: right;\n",
       "    }\n",
       "</style>\n",
       "<table border=\"1\" class=\"dataframe\">\n",
       "  <thead>\n",
       "    <tr style=\"text-align: right;\">\n",
       "      <th>BehaviorType</th>\n",
       "      <th>UserID</th>\n",
       "      <th>ItemID</th>\n",
       "      <th>ItemCategoryID</th>\n",
       "      <th>buy</th>\n",
       "      <th>cart</th>\n",
       "      <th>fav</th>\n",
       "      <th>pv</th>\n",
       "    </tr>\n",
       "  </thead>\n",
       "  <tbody>\n",
       "    <tr>\n",
       "      <th>0</th>\n",
       "      <td>253</td>\n",
       "      <td>137988</td>\n",
       "      <td>2409937</td>\n",
       "      <td>0</td>\n",
       "      <td>0</td>\n",
       "      <td>0</td>\n",
       "      <td>1</td>\n",
       "    </tr>\n",
       "    <tr>\n",
       "      <th>1</th>\n",
       "      <td>253</td>\n",
       "      <td>257634</td>\n",
       "      <td>2885642</td>\n",
       "      <td>0</td>\n",
       "      <td>0</td>\n",
       "      <td>0</td>\n",
       "      <td>1</td>\n",
       "    </tr>\n",
       "    <tr>\n",
       "      <th>2</th>\n",
       "      <td>253</td>\n",
       "      <td>500819</td>\n",
       "      <td>2409937</td>\n",
       "      <td>0</td>\n",
       "      <td>0</td>\n",
       "      <td>0</td>\n",
       "      <td>1</td>\n",
       "    </tr>\n",
       "    <tr>\n",
       "      <th>3</th>\n",
       "      <td>253</td>\n",
       "      <td>543072</td>\n",
       "      <td>2885642</td>\n",
       "      <td>0</td>\n",
       "      <td>0</td>\n",
       "      <td>0</td>\n",
       "      <td>1</td>\n",
       "    </tr>\n",
       "    <tr>\n",
       "      <th>4</th>\n",
       "      <td>253</td>\n",
       "      <td>937072</td>\n",
       "      <td>2885642</td>\n",
       "      <td>0</td>\n",
       "      <td>0</td>\n",
       "      <td>0</td>\n",
       "      <td>1</td>\n",
       "    </tr>\n",
       "    <tr>\n",
       "      <th>...</th>\n",
       "      <td>...</td>\n",
       "      <td>...</td>\n",
       "      <td>...</td>\n",
       "      <td>...</td>\n",
       "      <td>...</td>\n",
       "      <td>...</td>\n",
       "      <td>...</td>\n",
       "    </tr>\n",
       "    <tr>\n",
       "      <th>746367</th>\n",
       "      <td>1017952</td>\n",
       "      <td>4011217</td>\n",
       "      <td>3422001</td>\n",
       "      <td>0</td>\n",
       "      <td>0</td>\n",
       "      <td>0</td>\n",
       "      <td>1</td>\n",
       "    </tr>\n",
       "    <tr>\n",
       "      <th>746368</th>\n",
       "      <td>1017952</td>\n",
       "      <td>4183961</td>\n",
       "      <td>4159072</td>\n",
       "      <td>0</td>\n",
       "      <td>0</td>\n",
       "      <td>0</td>\n",
       "      <td>1</td>\n",
       "    </tr>\n",
       "    <tr>\n",
       "      <th>746369</th>\n",
       "      <td>1017952</td>\n",
       "      <td>4490910</td>\n",
       "      <td>411153</td>\n",
       "      <td>0</td>\n",
       "      <td>0</td>\n",
       "      <td>0</td>\n",
       "      <td>1</td>\n",
       "    </tr>\n",
       "    <tr>\n",
       "      <th>746370</th>\n",
       "      <td>1017952</td>\n",
       "      <td>4501732</td>\n",
       "      <td>1573426</td>\n",
       "      <td>0</td>\n",
       "      <td>0</td>\n",
       "      <td>0</td>\n",
       "      <td>1</td>\n",
       "    </tr>\n",
       "    <tr>\n",
       "      <th>746371</th>\n",
       "      <td>1017952</td>\n",
       "      <td>4814776</td>\n",
       "      <td>2885642</td>\n",
       "      <td>0</td>\n",
       "      <td>0</td>\n",
       "      <td>0</td>\n",
       "      <td>1</td>\n",
       "    </tr>\n",
       "  </tbody>\n",
       "</table>\n",
       "<p>746372 rows × 7 columns</p>\n",
       "</div>"
      ],
      "text/plain": [
       "BehaviorType   UserID   ItemID  ItemCategoryID  buy  cart  fav  pv\n",
       "0                 253   137988         2409937    0     0    0   1\n",
       "1                 253   257634         2885642    0     0    0   1\n",
       "2                 253   500819         2409937    0     0    0   1\n",
       "3                 253   543072         2885642    0     0    0   1\n",
       "4                 253   937072         2885642    0     0    0   1\n",
       "...               ...      ...             ...  ...   ...  ...  ..\n",
       "746367        1017952  4011217         3422001    0     0    0   1\n",
       "746368        1017952  4183961         4159072    0     0    0   1\n",
       "746369        1017952  4490910          411153    0     0    0   1\n",
       "746370        1017952  4501732         1573426    0     0    0   1\n",
       "746371        1017952  4814776         2885642    0     0    0   1\n",
       "\n",
       "[746372 rows x 7 columns]"
      ]
     },
     "execution_count": 25,
     "metadata": {},
     "output_type": "execute_result"
    }
   ],
   "source": [
    "df.fillna(0, inplace=True)\n",
    "df.replace(True,1)"
   ]
  },
  {
   "cell_type": "markdown",
   "id": "a56f7a60",
   "metadata": {},
   "source": [
    "12.Shows the relationship between User-Item Pairs Behaviors and Purchase Outcomes:"
   ]
  },
  {
   "cell_type": "code",
   "execution_count": 26,
   "id": "b27d38e6",
   "metadata": {},
   "outputs": [
    {
     "data": {
      "image/png": "[encoded data removed]",
      "text/plain": [
       "<Figure size 720x432 with 1 Axes>"
      ]
     },
     "metadata": {
      "needs_background": "light"
     },
     "output_type": "display_data"
    }
   ],
   "source": [
    "import pandas as pd\n",
    "import matplotlib.pyplot as plt\n",
    "\n",
    "\n",
    "# Aggregating data\n",
    "behaviors = ['pv', 'cart', 'fav']\n",
    "results = pd.DataFrame(index=behaviors, columns=['Buy (Has Behavior)', 'Not Buy (Has Behavior)', 'Buy (No Behavior)', 'Not Buy (No Behavior)'])\n",
    "\n",
    "for behavior in behaviors:\n",
    "    # Has behavior and Buy\n",
    "    has_behavior_buy = sum((df[behavior] == 1)&(df['buy'] == 1))\n",
    "    # Has behavior and Not Buy\n",
    "    has_behavior_not_buy = sum((df[behavior] == 1)&(df['buy'] == 0))\n",
    "    # No behavior and Buy\n",
    "    no_behavior_buy = sum((df[behavior] == 0)&(df['buy'] == 1))\n",
    "    # No behavior and Not Buy\n",
    "    no_behavior_not_buy = sum((df[behavior] == 0)&(df['buy'] == 0))\n",
    "\n",
    "    results.loc[behavior] = [has_behavior_buy, has_behavior_not_buy, no_behavior_buy, no_behavior_not_buy]\n",
    "\n",
    "# Plotting\n",
    "fig, ax = plt.subplots(figsize=(10, 6))\n",
    "bar_width = 0.35\n",
    "index = np.arange(len(behaviors))\n",
    "\n",
    "for i, behavior in enumerate(behaviors):\n",
    "    ax.bar(index[i] - bar_width/2, results.loc[behavior, 'Buy (Has Behavior)'], bar_width, label='Buy (Has Behavior)' if i == 0 else \"\", color='green')\n",
    "    ax.bar(index[i] - bar_width/2, results.loc[behavior, 'Not Buy (Has Behavior)'], bar_width, bottom=results.loc[behavior, 'Buy (Has Behavior)'], label='Not Buy (Has Behavior)' if i == 0 else \"\", color='red')\n",
    "    ax.bar(index[i] + bar_width/2, results.loc[behavior, 'Buy (No Behavior)'], bar_width, label='Buy (No Behavior)' if i == 0 else \"\", color='blue')\n",
    "    ax.bar(index[i] + bar_width/2, results.loc[behavior, 'Not Buy (No Behavior)'], bar_width, bottom=results.loc[behavior, 'Buy (No Behavior)'], label='Not Buy (No Behavior)' if i == 0 else \"\", color='orange')\n",
    "\n",
    "ax.set_xlabel('Behavior')\n",
    "ax.set_ylabel('Number of User-Item Pairs')\n",
    "ax.set_title('User-Item Pairs Behaviors and Purchase Outcomes')\n",
    "ax.set_xticks(index)\n",
    "ax.set_xticklabels(behaviors)\n",
    "ax.legend()\n",
    "\n",
    "plt.show()\n"
   ]
  },
  {
   "cell_type": "markdown",
   "id": "1b5f52d4",
   "metadata": {},
   "source": [
    "From the graph, we can see that there are fewer people who has put item in cart and buy the item than people who haven't put item in cart and buy the item. Similar things happen in people who favorite the item. It seems to contradict to our common\n",
    "sense that people who put things into card or give favorite to the item are more likely to buy the item. This is a\n",
    "phenomenon of Simpson’s paradox. Simpson’s Paradox is a phenomenon in probability and statistics in which\n",
    "a trend appears in several different groups of data but disappears or reverses when these groups are combined.\n",
    "This paradox can lead to misleading conclusions if data is not carefully analyzed. In this case, a significantly\n",
    "larger number of users don’t add items to the cart (or favorite items) but a small percentage of this large group\n",
    "still makes purchases, which outnumber the purchases from the smaller group who do add items to the cart\n",
    "(or favorite items). "
   ]
  },
  {
   "cell_type": "markdown",
   "id": "66b08fa3",
   "metadata": {},
   "source": [
    "Chi-Square Test:"
   ]
  },
  {
   "cell_type": "code",
   "execution_count": 27,
   "id": "64b0cf10",
   "metadata": {},
   "outputs": [
    {
     "name": "stdout",
     "output_type": "stream",
     "text": [
      "Chi-Square Test for pv:\n",
      "Chi-Square Statistic: 20618.127090201444, P-value: 0.0\n",
      "\n",
      "Contingency Table:\n",
      "buy        0   True\n",
      "pv                 \n",
      "0      42481   5972\n",
      "True  685293  12626 \n",
      "\n",
      "Column Ratios for pv:\n",
      "buy          0     True\n",
      "pv                     \n",
      "0     0.058371  0.32111\n",
      "True  0.941629  0.67889 \n",
      "\n",
      "Chi-Square Test for cart:\n",
      "Chi-Square Statistic: 3209.0344367902344, P-value: 0.0\n",
      "\n",
      "Contingency Table:\n",
      "buy        0   True\n",
      "cart               \n",
      "0     677288  15284\n",
      "True   50486   3314 \n",
      "\n",
      "Column Ratios for cart:\n",
      "buy         0      True\n",
      "cart                   \n",
      "0     0.93063  0.821809\n",
      "True  0.06937  0.178191 \n",
      "\n",
      "Chi-Square Test for fav:\n",
      "Chi-Square Statistic: 518.5317849834287, P-value: 8.830237178659564e-115\n",
      "\n",
      "Contingency Table:\n",
      "buy        0   True\n",
      "fav                \n",
      "0     700803  17308\n",
      "True   26971   1290 \n",
      "\n",
      "Column Ratios for fav:\n",
      "buy         0      True\n",
      "fav                    \n",
      "0     0.96294  0.930638\n",
      "True  0.03706  0.069362 \n",
      "\n"
     ]
    }
   ],
   "source": [
    "import pandas as pd\n",
    "from scipy.stats import chi2_contingency\n",
    "\n",
    "behaviors = ['pv', 'cart', 'fav']\n",
    "\n",
    "for behavior in behaviors:\n",
    "    # Creating contingency table\n",
    "    contingency_table = pd.crosstab(df[behavior], df['buy'])\n",
    "\n",
    "    # Performing Chi-Square Test\n",
    "    chi2, p, dof, expected = chi2_contingency(contingency_table)\n",
    "\n",
    "    print(f\"Chi-Square Test for {behavior}:\")\n",
    "    print(f\"Chi-Square Statistic: {chi2}, P-value: {p}\\n\")\n",
    "\n",
    "    # Optionally, print the contingency table\n",
    "    print(\"Contingency Table:\")\n",
    "    print(contingency_table, \"\\n\")\n",
    "    \n",
    "     # Calculating column ratios\n",
    "    column_ratios = contingency_table.div(contingency_table.sum())\n",
    "\n",
    "    print(f\"Column Ratios for {behavior}:\")\n",
    "    print(column_ratios, \"\\n\")\n"
   ]
  },
  {
   "cell_type": "code",
   "execution_count": 28,
   "id": "de15ba88",
   "metadata": {},
   "outputs": [
    {
     "name": "stdout",
     "output_type": "stream",
     "text": [
      "Chi-Square Test for pvpv:\n",
      "Chi-Square Statistic: 746355.5266249069, P-value: 0.0\n",
      "\n",
      "Contingency Table:\n",
      "pv        0    True\n",
      "pv                 \n",
      "0     48453       0\n",
      "True      0  697919 \n",
      "\n",
      "Chi-Square Test for pvcart:\n",
      "Chi-Square Statistic: 188362.67809123796, P-value: 0.0\n",
      "\n",
      "Contingency Table:\n",
      "cart       0   True\n",
      "pv                 \n",
      "0      21068  27385\n",
      "True  671504  26415 \n",
      "\n",
      "Chi-Square Test for pvfav:\n",
      "Chi-Square Statistic: 130096.2544507602, P-value: 0.0\n",
      "\n",
      "Contingency Table:\n",
      "fav        0   True\n",
      "pv                 \n",
      "0      31964  16489\n",
      "True  686147  11772 \n",
      "\n",
      "Chi-Square Test for cartpv:\n",
      "Chi-Square Statistic: 188362.67809123796, P-value: 0.0\n",
      "\n",
      "Contingency Table:\n",
      "pv        0    True\n",
      "cart               \n",
      "0     21068  671504\n",
      "True  27385   26415 \n",
      "\n",
      "Chi-Square Test for cartcart:\n",
      "Chi-Square Statistic: 746357.0493079148, P-value: 0.0\n",
      "\n",
      "Contingency Table:\n",
      "cart       0   True\n",
      "cart               \n",
      "0     692572      0\n",
      "True       0  53800 \n",
      "\n",
      "Chi-Square Test for cartfav:\n",
      "Chi-Square Statistic: 348.0487493301889, P-value: 1.127341330782584e-77\n",
      "\n",
      "Contingency Table:\n",
      "fav        0   True\n",
      "cart               \n",
      "0     665552  27020\n",
      "True   52559   1241 \n",
      "\n",
      "Chi-Square Test for favpv:\n",
      "Chi-Square Statistic: 130096.25445076019, P-value: 0.0\n",
      "\n",
      "Contingency Table:\n",
      "pv        0    True\n",
      "fav                \n",
      "0     31964  686147\n",
      "True  16489   11772 \n",
      "\n",
      "Chi-Square Test for favcart:\n",
      "Chi-Square Statistic: 348.0487493301889, P-value: 1.127341330782584e-77\n",
      "\n",
      "Contingency Table:\n",
      "cart       0   True\n",
      "fav                \n",
      "0     665552  52559\n",
      "True   27020   1241 \n",
      "\n",
      "Chi-Square Test for favfav:\n",
      "Chi-Square Statistic: 746344.550933474, P-value: 0.0\n",
      "\n",
      "Contingency Table:\n",
      "fav        0   True\n",
      "fav                \n",
      "0     718111      0\n",
      "True       0  28261 \n",
      "\n"
     ]
    }
   ],
   "source": [
    "# Creating contingency table\n",
    "for behavior1 in ['pv', 'cart', 'fav']:\n",
    "    for behavior2 in ['pv', 'cart', 'fav']:\n",
    "        contingency_table = pd.crosstab(df[behavior1], df[behavior2])\n",
    "        \n",
    "        # Performing Chi-Square Test\n",
    "        chi2, p, dof, expected = chi2_contingency(contingency_table)\n",
    "        \n",
    "        print(f\"Chi-Square Test for {behavior1}{behavior2}:\")\n",
    "        print(f\"Chi-Square Statistic: {chi2}, P-value: {p}\\n\")\n",
    "        \n",
    "        # Optionally, print the contingency table\n",
    "        \n",
    "        print(\"Contingency Table:\")\n",
    "        print(contingency_table, \"\\n\")"
   ]
  },
  {
   "cell_type": "markdown",
   "id": "1e42c0bc",
   "metadata": {},
   "source": [
    "Plotting Column Ratios for these contingency tables:"
   ]
  },
  {
   "cell_type": "code",
   "execution_count": 29,
   "id": "a7e30804",
   "metadata": {},
   "outputs": [
    {
     "data": {
      "image/png": "[encoded data removed]",
      "text/plain": [
       "<Figure size 720x432 with 1 Axes>"
      ]
     },
     "metadata": {
      "needs_background": "light"
     },
     "output_type": "display_data"
    }
   ],
   "source": [
    "column_ratios = pd.DataFrame(index=behaviors, columns=['Buy Ratio', 'Not Buy Ratio'])\n",
    "\n",
    "for behavior in behaviors:\n",
    "    contingency_table = pd.crosstab(df[behavior], df['buy'])\n",
    "    ratio = contingency_table.div(contingency_table.sum()).loc[1]\n",
    "    column_ratios.loc[behavior] = [ratio[1], ratio[0]]\n",
    "\n",
    "# Convert ratios to percentages\n",
    "column_ratios = column_ratios.astype(float) * 100\n",
    "\n",
    "# Plotting\n",
    "fig, ax = plt.subplots(figsize=(10, 6))\n",
    "bar_width = 0.35\n",
    "index = np.arange(len(behaviors))\n",
    "\n",
    "for i, behavior in enumerate(behaviors):\n",
    "    ax.bar(index[i] - bar_width/2, column_ratios.loc[behavior, 'Buy Ratio'], bar_width, label='Buy Ratio' if i == 0 else \"\", color='green')\n",
    "    ax.bar(index[i] + bar_width/2, column_ratios.loc[behavior, 'Not Buy Ratio'], bar_width, label='Not Buy Ratio' if i == 0 else \"\", color='red')\n",
    "\n",
    "ax.set_xlabel('Behavior')\n",
    "ax.set_ylabel('Percentage')\n",
    "ax.set_title('Column Ratios as Percentages for Behaviors')\n",
    "ax.set_xticks(index)\n",
    "ax.set_xticklabels(behaviors)\n",
    "ax.legend()\n",
    "\n",
    "plt.show()"
   ]
  },
  {
   "cell_type": "code",
   "execution_count": null,
   "id": "0d3ad153",
   "metadata": {},
   "outputs": [],
   "source": []
  }
 ],
 "metadata": {
  "kernelspec": {
   "display_name": "Python 3 (ipykernel)",
   "language": "python",
   "name": "python3"
  },
  "language_info": {
   "codemirror_mode": {
    "name": "ipython",
    "version": 3
   },
   "file_extension": ".py",
   "mimetype": "text/x-python",
   "name": "python",
   "nbconvert_exporter": "python",
   "pygments_lexer": "ipython3",
   "version": "3.9.7"
  }
 },
 "nbformat": 4,
 "nbformat_minor": 5
}
