{
 "cells": [
  {
   "cell_type": "code",
   "execution_count": 1,
   "metadata": {
    "collapsed": true
   },
   "outputs": [],
   "source": [
    "import pandas as pd"
   ]
  },
  {
   "cell_type": "code",
   "execution_count": 7,
   "outputs": [],
   "source": [
    "df = pd.read_csv('../data/UserBehavior10000.csv')"
   ],
   "metadata": {
    "collapsed": false
   }
  },
  {
   "cell_type": "code",
   "execution_count": 10,
   "outputs": [
    {
     "data": {
      "text/plain": "      Unnamed: 0        1  2268318  2520377    pv  1511544070\n0              0        1  2333346  2520771    pv  1511561733\n1              1        1  2576651   149192    pv  1511572885\n2              2        1  3830808  4181361    pv  1511593493\n3              3        1  4365585  2520377    pv  1511596146\n4              4        1  4606018  2735466    pv  1511616481\n...          ...      ...      ...      ...   ...         ...\n9995        9995  1000436  1542569  3619575   buy  1512184723\n9996        9996  1000436  2279117   405755    pv  1512184785\n9997        9997  1000436  3249912  2920476    pv  1512184868\n9998        9998  1000436   921462  1888306   fav  1512184965\n9999        9999  1000436  2011894  3729292  cart  1512203775\n\n[10000 rows x 6 columns]",
      "text/html": "<div>\n<style scoped>\n    .dataframe tbody tr th:only-of-type {\n        vertical-align: middle;\n    }\n\n    .dataframe tbody tr th {\n        vertical-align: top;\n    }\n\n    .dataframe thead th {\n        text-align: right;\n    }\n</style>\n<table border=\"1\" class=\"dataframe\">\n  <thead>\n    <tr style=\"text-align: right;\">\n      <th></th>\n      <th>Unnamed: 0</th>\n      <th>1</th>\n      <th>2268318</th>\n      <th>2520377</th>\n      <th>pv</th>\n      <th>1511544070</th>\n    </tr>\n  </thead>\n  <tbody>\n    <tr>\n      <th>0</th>\n      <td>0</td>\n      <td>1</td>\n      <td>2333346</td>\n      <td>2520771</td>\n      <td>pv</td>\n      <td>1511561733</td>\n    </tr>\n    <tr>\n      <th>1</th>\n      <td>1</td>\n      <td>1</td>\n      <td>2576651</td>\n      <td>149192</td>\n      <td>pv</td>\n      <td>1511572885</td>\n    </tr>\n    <tr>\n      <th>2</th>\n      <td>2</td>\n      <td>1</td>\n      <td>3830808</td>\n      <td>4181361</td>\n      <td>pv</td>\n      <td>1511593493</td>\n    </tr>\n    <tr>\n      <th>3</th>\n      <td>3</td>\n      <td>1</td>\n      <td>4365585</td>\n      <td>2520377</td>\n      <td>pv</td>\n      <td>1511596146</td>\n    </tr>\n    <tr>\n      <th>4</th>\n      <td>4</td>\n      <td>1</td>\n      <td>4606018</td>\n      <td>2735466</td>\n      <td>pv</td>\n      <td>1511616481</td>\n    </tr>\n    <tr>\n      <th>...</th>\n      <td>...</td>\n      <td>...</td>\n      <td>...</td>\n      <td>...</td>\n      <td>...</td>\n      <td>...</td>\n    </tr>\n    <tr>\n      <th>9995</th>\n      <td>9995</td>\n      <td>1000436</td>\n      <td>1542569</td>\n      <td>3619575</td>\n      <td>buy</td>\n      <td>1512184723</td>\n    </tr>\n    <tr>\n      <th>9996</th>\n      <td>9996</td>\n      <td>1000436</td>\n      <td>2279117</td>\n      <td>405755</td>\n      <td>pv</td>\n      <td>1512184785</td>\n    </tr>\n    <tr>\n      <th>9997</th>\n      <td>9997</td>\n      <td>1000436</td>\n      <td>3249912</td>\n      <td>2920476</td>\n      <td>pv</td>\n      <td>1512184868</td>\n    </tr>\n    <tr>\n      <th>9998</th>\n      <td>9998</td>\n      <td>1000436</td>\n      <td>921462</td>\n      <td>1888306</td>\n      <td>fav</td>\n      <td>1512184965</td>\n    </tr>\n    <tr>\n      <th>9999</th>\n      <td>9999</td>\n      <td>1000436</td>\n      <td>2011894</td>\n      <td>3729292</td>\n      <td>cart</td>\n      <td>1512203775</td>\n    </tr>\n  </tbody>\n</table>\n<p>10000 rows × 6 columns</p>\n</div>"
     },
     "execution_count": 10,
     "metadata": {},
     "output_type": "execute_result"
    }
   ],
   "source": [
    "df.shape"
   ],
   "metadata": {
    "collapsed": false
   }
  }
 ],
 "metadata": {
  "kernelspec": {
   "display_name": "Python 3",
   "language": "python",
   "name": "python3"
  },
  "language_info": {
   "codemirror_mode": {
    "name": "ipython",
    "version": 2
   },
   "file_extension": ".py",
   "mimetype": "text/x-python",
   "name": "python",
   "nbconvert_exporter": "python",
   "pygments_lexer": "ipython2",
   "version": "2.7.6"
  }
 },
 "nbformat": 4,
 "nbformat_minor": 0
}
