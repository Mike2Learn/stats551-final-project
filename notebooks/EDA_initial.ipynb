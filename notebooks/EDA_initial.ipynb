{
 "cells": [
  {
   "cell_type": "markdown",
   "id": "8f9e7e93",
   "metadata": {},
   "source": [
    "1. Require Libraries"
   ]
  },
  {
   "cell_type": "code",
   "execution_count": 8,
   "id": "1273f368",
   "metadata": {},
   "outputs": [],
   "source": [
    "import pandas as pd\n",
    "import numpy as np\n",
    "import time\n",
    "import matplotlib.pyplot as plt"
   ]
  },
  {
   "cell_type": "markdown",
   "id": "d9e40f9c",
   "metadata": {},
   "source": [
    "2. Load Dataset"
   ]
  },
  {
   "cell_type": "markdown",
   "id": "b3b7e24a",
   "metadata": {},
   "source": [
    "We use the sample user behaviors to do exploratory data analysis. "
   ]
  },
  {
   "cell_type": "code",
   "execution_count": 9,
   "id": "b1025ccb",
   "metadata": {},
   "outputs": [],
   "source": [
    "df = pd.read_csv(\"Sampled_UserBehavior.csv\")"
   ]
  },
  {
   "cell_type": "code",
   "execution_count": 10,
   "id": "71a4c42b",
   "metadata": {},
   "outputs": [
    {
     "data": {
      "text/html": [
       "<div>\n",
       "<style scoped>\n",
       "    .dataframe tbody tr th:only-of-type {\n",
       "        vertical-align: middle;\n",
       "    }\n",
       "\n",
       "    .dataframe tbody tr th {\n",
       "        vertical-align: top;\n",
       "    }\n",
       "\n",
       "    .dataframe thead th {\n",
       "        text-align: right;\n",
       "    }\n",
       "</style>\n",
       "<table border=\"1\" class=\"dataframe\">\n",
       "  <thead>\n",
       "    <tr style=\"text-align: right;\">\n",
       "      <th></th>\n",
       "      <th>User_ID</th>\n",
       "      <th>Item_ID</th>\n",
       "      <th>Categorical_ID</th>\n",
       "      <th>Behavior</th>\n",
       "      <th>Timestamp</th>\n",
       "    </tr>\n",
       "  </thead>\n",
       "  <tbody>\n",
       "    <tr>\n",
       "      <th>1792</th>\n",
       "      <td>1000061</td>\n",
       "      <td>1288773</td>\n",
       "      <td>1735195</td>\n",
       "      <td>pv</td>\n",
       "      <td>1511576626</td>\n",
       "    </tr>\n",
       "    <tr>\n",
       "      <th>1793</th>\n",
       "      <td>1000061</td>\n",
       "      <td>4074215</td>\n",
       "      <td>4684862</td>\n",
       "      <td>pv</td>\n",
       "      <td>1511677113</td>\n",
       "    </tr>\n",
       "    <tr>\n",
       "      <th>1794</th>\n",
       "      <td>1000061</td>\n",
       "      <td>1120968</td>\n",
       "      <td>512076</td>\n",
       "      <td>pv</td>\n",
       "      <td>1511685194</td>\n",
       "    </tr>\n",
       "    <tr>\n",
       "      <th>1795</th>\n",
       "      <td>1000061</td>\n",
       "      <td>4862918</td>\n",
       "      <td>3164550</td>\n",
       "      <td>cart</td>\n",
       "      <td>1511686985</td>\n",
       "    </tr>\n",
       "    <tr>\n",
       "      <th>1796</th>\n",
       "      <td>1000061</td>\n",
       "      <td>3150019</td>\n",
       "      <td>3164550</td>\n",
       "      <td>cart</td>\n",
       "      <td>1511687015</td>\n",
       "    </tr>\n",
       "  </tbody>\n",
       "</table>\n",
       "</div>"
      ],
      "text/plain": [
       "      User_ID  Item_ID  Categorical_ID Behavior   Timestamp\n",
       "1792  1000061  1288773         1735195       pv  1511576626\n",
       "1793  1000061  4074215         4684862       pv  1511677113\n",
       "1794  1000061  1120968          512076       pv  1511685194\n",
       "1795  1000061  4862918         3164550     cart  1511686985\n",
       "1796  1000061  3150019         3164550     cart  1511687015"
      ]
     },
     "execution_count": 10,
     "metadata": {},
     "output_type": "execute_result"
    }
   ],
   "source": [
    "column_names = ['User_ID', 'Item_ID', 'Categorical_ID','Behavior','Timestamp']\n",
    "df = pd.read_csv(\"Sampled_UserBehavior.csv\", header=0, names=column_names)\n",
    "df.head()"
   ]
  },
  {
   "cell_type": "code",
   "execution_count": 11,
   "id": "f3d002f6",
   "metadata": {},
   "outputs": [
    {
     "name": "stdout",
     "output_type": "stream",
     "text": [
      "<class 'pandas.core.frame.DataFrame'>\n",
      "Int64Index: 998586 entries, 1792 to 100148375\n",
      "Data columns (total 5 columns):\n",
      " #   Column          Non-Null Count   Dtype \n",
      "---  ------          --------------   ----- \n",
      " 0   User_ID         998586 non-null  int64 \n",
      " 1   Item_ID         998586 non-null  int64 \n",
      " 2   Categorical_ID  998586 non-null  int64 \n",
      " 3   Behavior        998586 non-null  object\n",
      " 4   Timestamp       998586 non-null  int64 \n",
      "dtypes: int64(4), object(1)\n",
      "memory usage: 45.7+ MB\n"
     ]
    }
   ],
   "source": [
    "df.info()"
   ]
  },
  {
   "cell_type": "markdown",
   "id": "70a379d3",
   "metadata": {},
   "source": [
    "3. Check Data Integrity"
   ]
  },
  {
   "cell_type": "markdown",
   "id": "beb4e1ab",
   "metadata": {},
   "source": [
    "1) We first check if there exists any duplicated rows."
   ]
  },
  {
   "cell_type": "code",
   "execution_count": 12,
   "id": "9d6374b0",
   "metadata": {},
   "outputs": [],
   "source": [
    "duplicate_rows = df[df.duplicated()]\n",
    "duplicate_rows_count = duplicate_rows.shape[0]"
   ]
  },
  {
   "cell_type": "code",
   "execution_count": 13,
   "id": "95b39bc5",
   "metadata": {},
   "outputs": [
    {
     "name": "stdout",
     "output_type": "stream",
     "text": [
      "Empty DataFrame\n",
      "Columns: [User_ID, Item_ID, Categorical_ID, Behavior, Timestamp]\n",
      "Index: []\n",
      "Number of duplicated rows: 0\n"
     ]
    }
   ],
   "source": [
    "print(duplicate_rows)\n",
    "print(\"Number of duplicated rows:\", duplicate_rows_count)"
   ]
  },
  {
   "cell_type": "markdown",
   "id": "518769cd",
   "metadata": {},
   "source": [
    "There is no duplicate rows. "
   ]
  },
  {
   "cell_type": "markdown",
   "id": "da3e79fe",
   "metadata": {},
   "source": [
    "Check whether there are any duplicated columns."
   ]
  },
  {
   "cell_type": "markdown",
   "id": "7ed0ada1",
   "metadata": {},
   "source": [
    "2) Then, we check whether there are any missing values in the dataset. "
   ]
  },
  {
   "cell_type": "code",
   "execution_count": 18,
   "id": "db2fb0a5",
   "metadata": {},
   "outputs": [
    {
     "data": {
      "text/plain": [
       "User_ID           0\n",
       "Item_ID           0\n",
       "Categorical_ID    0\n",
       "Behavior          0\n",
       "Timestamp         0\n",
       "dtype: int64"
      ]
     },
     "execution_count": 18,
     "metadata": {},
     "output_type": "execute_result"
    }
   ],
   "source": [
    "df.isnull().sum()"
   ]
  },
  {
   "cell_type": "markdown",
   "id": "a0f772c7",
   "metadata": {},
   "source": [
    "There is no missing value in this dataset. "
   ]
  },
  {
   "cell_type": "markdown",
   "id": "15ee090b",
   "metadata": {},
   "source": [
    "4.Timestamp to Date"
   ]
  },
  {
   "cell_type": "markdown",
   "id": "57949e69",
   "metadata": {},
   "source": [
    "We convert the Timestamp to a time unit -- Date."
   ]
  },
  {
   "cell_type": "code",
   "execution_count": 19,
   "id": "b4fb462d",
   "metadata": {},
   "outputs": [],
   "source": [
    "df['Date'] = pd.to_datetime(df['Timestamp'], unit='s').dt.date"
   ]
  },
  {
   "cell_type": "code",
   "execution_count": 20,
   "id": "27d04c0b",
   "metadata": {},
   "outputs": [
    {
     "name": "stdout",
     "output_type": "stream",
     "text": [
      "2017-12-02    139670\n",
      "2017-12-03    122451\n",
      "2017-12-01    112001\n",
      "2017-11-26    105262\n",
      "2017-11-30    105068\n",
      "2017-11-25    102365\n",
      "2017-11-29    100395\n",
      "2017-11-28     99709\n",
      "2017-11-27     99069\n",
      "2017-11-24     12447\n",
      "2017-11-23        62\n",
      "2017-11-18        25\n",
      "2017-11-22        17\n",
      "2019-11-01        14\n",
      "2017-11-16         5\n",
      "2017-11-19         5\n",
      "2017-11-21         4\n",
      "2017-11-11         3\n",
      "2017-11-12         2\n",
      "2017-11-14         2\n",
      "2017-11-20         2\n",
      "2017-10-21         2\n",
      "2017-10-29         1\n",
      "2017-11-10         1\n",
      "2017-11-15         1\n",
      "2017-11-13         1\n",
      "2017-11-02         1\n",
      "2017-11-05         1\n",
      "Name: Date, dtype: int64\n"
     ]
    }
   ],
   "source": [
    "# Print the count of each unique date\n",
    "print(df[\"Date\"].value_counts())"
   ]
  },
  {
   "cell_type": "code",
   "execution_count": 21,
   "id": "a443b8a4",
   "metadata": {},
   "outputs": [
    {
     "name": "stdout",
     "output_type": "stream",
     "text": [
      "2017-12-02    139670\n",
      "2017-12-03    122451\n",
      "2017-12-01    112001\n",
      "2017-11-26    105262\n",
      "2017-11-30    105068\n",
      "2017-11-25    102365\n",
      "2017-11-29    100395\n",
      "2017-11-28     99709\n",
      "2017-11-27     99069\n",
      "Name: Date, dtype: int64\n"
     ]
    }
   ],
   "source": [
    "# Filter the DataFrame for the specific date range\n",
    "cleaned_df = df[(df[\"Date\"] >= pd.to_datetime('2017-11-25').date()) & (df[\"Date\"] <= pd.to_datetime('2017-12-03').date())]\n",
    "\n",
    "# Print the count of each unique date in the filtered DataFrame\n",
    "print(cleaned_df[\"Date\"].value_counts())"
   ]
  },
  {
   "cell_type": "markdown",
   "id": "a564a2a2",
   "metadata": {},
   "source": [
    "5. Check the dimensions of the data."
   ]
  },
  {
   "cell_type": "code",
   "execution_count": 22,
   "id": "ae8c9f43",
   "metadata": {},
   "outputs": [],
   "source": [
    "df = cleaned_df"
   ]
  },
  {
   "cell_type": "code",
   "execution_count": 23,
   "id": "ffcf5551",
   "metadata": {},
   "outputs": [
    {
     "data": {
      "text/plain": [
       "(985990, 6)"
      ]
     },
     "execution_count": 23,
     "metadata": {},
     "output_type": "execute_result"
    }
   ],
   "source": [
    "np.shape(df)"
   ]
  },
  {
   "cell_type": "markdown",
   "id": "36fc3bd3",
   "metadata": {},
   "source": [
    "6. Check the number of unique values of each column in the dataset. "
   ]
  },
  {
   "cell_type": "code",
   "execution_count": 24,
   "id": "acd02aa4",
   "metadata": {},
   "outputs": [],
   "source": [
    "unique_counts = df.nunique()"
   ]
  },
  {
   "cell_type": "code",
   "execution_count": 25,
   "id": "19fdde9c",
   "metadata": {},
   "outputs": [
    {
     "data": {
      "text/plain": [
       "User_ID             9820\n",
       "Item_ID           396855\n",
       "Categorical_ID      5843\n",
       "Behavior               4\n",
       "Timestamp         488038\n",
       "Date                   9\n",
       "dtype: int64"
      ]
     },
     "execution_count": 25,
     "metadata": {},
     "output_type": "execute_result"
    }
   ],
   "source": [
    "unique_counts"
   ]
  },
  {
   "cell_type": "code",
   "execution_count": 28,
   "id": "10afa495",
   "metadata": {},
   "outputs": [
    {
     "data": {
      "image/png": "[encoded data removed]",
      "text/plain": [
       "<Figure size 720x576 with 4 Axes>"
      ]
     },
     "metadata": {
      "needs_background": "light"
     },
     "output_type": "display_data"
    }
   ],
   "source": [
    "fig, axs = plt.subplots(2, 2, figsize=(10, 8))\n",
    "\n",
    "# Plot histograms of counts of unique values for each column\n",
    "axs[0, 0].hist(df[\"User_ID\"].value_counts(), bins=30, color='blue', alpha=0.7)\n",
    "axs[0, 0].set_title('Histogram UserID')\n",
    "\n",
    "axs[0, 1].hist(df[\"Item_ID\"].value_counts(), bins=80, color='green', alpha=0.7)\n",
    "axs[0, 1].set_title('Histogram ItemID')\n",
    "\n",
    "axs[1, 0].hist(df[\"Categorical_ID\"].value_counts(), bins=80, color='orange', alpha=0.7)\n",
    "axs[1, 0].set_title('Histogram ItemCategoryID')\n",
    "\n",
    "axs[1, 1].hist(df[\"Behavior\"].value_counts(), bins=80, color='red', alpha=0.7)\n",
    "axs[1, 1].set_title('Histogram BehaviorType')\n",
    "\n",
    "plt.tight_layout()"
   ]
  },
  {
   "cell_type": "markdown",
   "id": "0f3e7d52",
   "metadata": {},
   "source": [
    "7. Check the number of different types of behaviors."
   ]
  },
  {
   "cell_type": "code",
   "execution_count": 29,
   "id": "1f5ff2cf",
   "metadata": {},
   "outputs": [
    {
     "name": "stdout",
     "output_type": "stream",
     "text": [
      "Counter({'pv': 882949, 'cart': 55229, 'fav': 28407, 'buy': 19405})\n"
     ]
    }
   ],
   "source": [
    "from collections import Counter\n",
    "print(Counter(df['Behavior']))"
   ]
  },
  {
   "cell_type": "markdown",
   "id": "2286b689",
   "metadata": {},
   "source": [
    "The dataset contains all behaviors(including Page Views, Cart, Favorite, Purchases) of 9840 random users who were active between November 25, 2017, and December 3, 2017. Each row in the dataset represents a single user action and consist of the User ID, Item ID, Category ID, Behavior, and Timestamp. "
   ]
  },
  {
   "cell_type": "markdown",
   "id": "f1d8323a",
   "metadata": {},
   "source": [
    "8. Check the number of different behaviors in each date."
   ]
  },
  {
   "cell_type": "code",
   "execution_count": 30,
   "id": "389632a9",
   "metadata": {},
   "outputs": [
    {
     "data": {
      "text/html": [
       "<div>\n",
       "<style scoped>\n",
       "    .dataframe tbody tr th:only-of-type {\n",
       "        vertical-align: middle;\n",
       "    }\n",
       "\n",
       "    .dataframe tbody tr th {\n",
       "        vertical-align: top;\n",
       "    }\n",
       "\n",
       "    .dataframe thead th {\n",
       "        text-align: right;\n",
       "    }\n",
       "</style>\n",
       "<table border=\"1\" class=\"dataframe\">\n",
       "  <thead>\n",
       "    <tr style=\"text-align: right;\">\n",
       "      <th></th>\n",
       "      <th>Behavior1</th>\n",
       "    </tr>\n",
       "    <tr>\n",
       "      <th>Date</th>\n",
       "      <th></th>\n",
       "    </tr>\n",
       "  </thead>\n",
       "  <tbody>\n",
       "    <tr>\n",
       "      <th>2017-11-25</th>\n",
       "      <td>[1, 2, 1, 1, 1, 1, 1, 1, 1, 1, 1, 1, 1, 1, 1, ...</td>\n",
       "    </tr>\n",
       "    <tr>\n",
       "      <th>2017-11-26</th>\n",
       "      <td>[1, 1, 2, 2, 4, 1, 1, 1, 1, 1, 1, 3, 1, 3, 1, ...</td>\n",
       "    </tr>\n",
       "    <tr>\n",
       "      <th>2017-11-27</th>\n",
       "      <td>[1, 1, 1, 1, 1, 1, 1, 1, 1, 1, 2, 1, 1, 1, 1, ...</td>\n",
       "    </tr>\n",
       "    <tr>\n",
       "      <th>2017-11-28</th>\n",
       "      <td>[1, 1, 1, 1, 1, 1, 1, 1, 1, 1, 1, 1, 1, 2, 1, ...</td>\n",
       "    </tr>\n",
       "    <tr>\n",
       "      <th>2017-11-29</th>\n",
       "      <td>[1, 1, 2, 1, 1, 1, 1, 1, 1, 1, 1, 1, 1, 1, 1, ...</td>\n",
       "    </tr>\n",
       "    <tr>\n",
       "      <th>2017-11-30</th>\n",
       "      <td>[2, 1, 1, 1, 2, 2, 1, 1, 2, 2, 1, 1, 4, 1, 1, ...</td>\n",
       "    </tr>\n",
       "    <tr>\n",
       "      <th>2017-12-01</th>\n",
       "      <td>[2, 1, 1, 1, 1, 1, 1, 1, 1, 4, 1, 1, 1, 1, 1, ...</td>\n",
       "    </tr>\n",
       "    <tr>\n",
       "      <th>2017-12-02</th>\n",
       "      <td>[1, 1, 2, 1, 1, 1, 1, 4, 4, 1, 1, 1, 1, 1, 1, ...</td>\n",
       "    </tr>\n",
       "    <tr>\n",
       "      <th>2017-12-03</th>\n",
       "      <td>[1, 4, 1, 1, 2, 1, 1, 1, 4, 1, 1, 2, 2, 2, 1, ...</td>\n",
       "    </tr>\n",
       "  </tbody>\n",
       "</table>\n",
       "</div>"
      ],
      "text/plain": [
       "                                                    Behavior1\n",
       "Date                                                         \n",
       "2017-11-25  [1, 2, 1, 1, 1, 1, 1, 1, 1, 1, 1, 1, 1, 1, 1, ...\n",
       "2017-11-26  [1, 1, 2, 2, 4, 1, 1, 1, 1, 1, 1, 3, 1, 3, 1, ...\n",
       "2017-11-27  [1, 1, 1, 1, 1, 1, 1, 1, 1, 1, 2, 1, 1, 1, 1, ...\n",
       "2017-11-28  [1, 1, 1, 1, 1, 1, 1, 1, 1, 1, 1, 1, 1, 2, 1, ...\n",
       "2017-11-29  [1, 1, 2, 1, 1, 1, 1, 1, 1, 1, 1, 1, 1, 1, 1, ...\n",
       "2017-11-30  [2, 1, 1, 1, 2, 2, 1, 1, 2, 2, 1, 1, 4, 1, 1, ...\n",
       "2017-12-01  [2, 1, 1, 1, 1, 1, 1, 1, 1, 4, 1, 1, 1, 1, 1, ...\n",
       "2017-12-02  [1, 1, 2, 1, 1, 1, 1, 4, 4, 1, 1, 1, 1, 1, 1, ...\n",
       "2017-12-03  [1, 4, 1, 1, 2, 1, 1, 1, 4, 1, 1, 2, 2, 2, 1, ..."
      ]
     },
     "execution_count": 30,
     "metadata": {},
     "output_type": "execute_result"
    }
   ],
   "source": [
    "df['Behavior1']=df['Behavior'].map({'pv':1,'cart':2,'fav':3,'buy':4})\n",
    "df['Behavior1']=df['Behavior1'].apply(lambda x: list(str(x)))\n",
    "a = df.groupby('Date')['Behavior1'].sum()\n",
    "a = pd.DataFrame(a)\n",
    "a"
   ]
  },
  {
   "cell_type": "code",
   "execution_count": 31,
   "id": "e153ebb4",
   "metadata": {},
   "outputs": [
    {
     "name": "stdout",
     "output_type": "stream",
     "text": [
      "Counter({'1': 91771, '2': 5638, '3': 2963, '4': 1993})\n"
     ]
    }
   ],
   "source": [
    "print(Counter(a['Behavior1'].iloc[0]))"
   ]
  },
  {
   "cell_type": "code",
   "execution_count": 32,
   "id": "028e5c2b",
   "metadata": {},
   "outputs": [
    {
     "data": {
      "text/html": [
       "<div>\n",
       "<style scoped>\n",
       "    .dataframe tbody tr th:only-of-type {\n",
       "        vertical-align: middle;\n",
       "    }\n",
       "\n",
       "    .dataframe tbody tr th {\n",
       "        vertical-align: top;\n",
       "    }\n",
       "\n",
       "    .dataframe thead th {\n",
       "        text-align: right;\n",
       "    }\n",
       "</style>\n",
       "<table border=\"1\" class=\"dataframe\">\n",
       "  <thead>\n",
       "    <tr style=\"text-align: right;\">\n",
       "      <th></th>\n",
       "      <th>pv</th>\n",
       "      <th>fav</th>\n",
       "      <th>cart</th>\n",
       "      <th>buy</th>\n",
       "    </tr>\n",
       "  </thead>\n",
       "  <tbody>\n",
       "    <tr>\n",
       "      <th>12/1</th>\n",
       "      <td>91771</td>\n",
       "      <td>5638</td>\n",
       "      <td>2963</td>\n",
       "      <td>1993</td>\n",
       "    </tr>\n",
       "    <tr>\n",
       "      <th>12/2</th>\n",
       "      <td>94233</td>\n",
       "      <td>5941</td>\n",
       "      <td>2106</td>\n",
       "      <td>2982</td>\n",
       "    </tr>\n",
       "    <tr>\n",
       "      <th>12/3</th>\n",
       "      <td>88740</td>\n",
       "      <td>5389</td>\n",
       "      <td>2054</td>\n",
       "      <td>2886</td>\n",
       "    </tr>\n",
       "    <tr>\n",
       "      <th>11/25</th>\n",
       "      <td>89174</td>\n",
       "      <td>5443</td>\n",
       "      <td>2165</td>\n",
       "      <td>2927</td>\n",
       "    </tr>\n",
       "    <tr>\n",
       "      <th>11/26</th>\n",
       "      <td>90110</td>\n",
       "      <td>5333</td>\n",
       "      <td>2022</td>\n",
       "      <td>2930</td>\n",
       "    </tr>\n",
       "    <tr>\n",
       "      <th>11/27</th>\n",
       "      <td>5733</td>\n",
       "      <td>94046</td>\n",
       "      <td>2187</td>\n",
       "      <td>3102</td>\n",
       "    </tr>\n",
       "    <tr>\n",
       "      <th>11/28</th>\n",
       "      <td>6601</td>\n",
       "      <td>100329</td>\n",
       "      <td>2086</td>\n",
       "      <td>2985</td>\n",
       "    </tr>\n",
       "    <tr>\n",
       "      <th>11/29</th>\n",
       "      <td>124759</td>\n",
       "      <td>8163</td>\n",
       "      <td>2506</td>\n",
       "      <td>4242</td>\n",
       "    </tr>\n",
       "    <tr>\n",
       "      <th>11/30</th>\n",
       "      <td>109787</td>\n",
       "      <td>2286</td>\n",
       "      <td>6988</td>\n",
       "      <td>3390</td>\n",
       "    </tr>\n",
       "  </tbody>\n",
       "</table>\n",
       "</div>"
      ],
      "text/plain": [
       "           pv     fav  cart   buy\n",
       "12/1    91771    5638  2963  1993\n",
       "12/2    94233    5941  2106  2982\n",
       "12/3    88740    5389  2054  2886\n",
       "11/25   89174    5443  2165  2927\n",
       "11/26   90110    5333  2022  2930\n",
       "11/27    5733   94046  2187  3102\n",
       "11/28    6601  100329  2086  2985\n",
       "11/29  124759    8163  2506  4242\n",
       "11/30  109787    2286  6988  3390"
      ]
     },
     "execution_count": 32,
     "metadata": {},
     "output_type": "execute_result"
    }
   ],
   "source": [
    "#获取'pv','fav','cart','buy'数据\n",
    "item = pd.DataFrame(columns=['pv','fav','cart','buy'],index=['12/1','12/2','12/3','11/25','11/26','11/27','11/28','11/29','11/30'])\n",
    "for i in range(9):\n",
    "    x = Counter(a['Behavior1'].iloc[i])\n",
    "    it = list(x.values())\n",
    "    item.iloc[i] = it\n",
    "        \n",
    "item"
   ]
  },
  {
   "cell_type": "code",
   "execution_count": 37,
   "id": "08dce97b",
   "metadata": {},
   "outputs": [
    {
     "name": "stdout",
     "output_type": "stream",
     "text": [
      "Total number of rows: 985990\n",
      "Number of rows of with user-item pair duplicated behaviors: 187412\n"
     ]
    }
   ],
   "source": [
    "df_drop = df.drop([\"Timestamp\", \"Date\",\"Behavior1\"],axis=1)\n",
    "duplicate_rows_drop = df_drop[df_drop.duplicated()]\n",
    "duplicate_rows_count_drop = duplicate_rows_drop.shape[0]\n",
    "print(\"Total number of rows:\", df_drop.shape[0])\n",
    "print(\"Number of user-item pairs with duplicated behaviors:\", duplicate_rows_count_drop)"
   ]
  },
  {
   "cell_type": "code",
   "execution_count": 38,
   "id": "97f5f581",
   "metadata": {},
   "outputs": [
    {
     "name": "stdout",
     "output_type": "stream",
     "text": [
      "Counter({'pv': 185030, 'cart': 1429, 'buy': 807, 'fav': 146})\n"
     ]
    }
   ],
   "source": [
    "from collections import Counter\n",
    "print(Counter(duplicate_rows_drop['Behavior']))"
   ]
  },
  {
   "cell_type": "markdown",
   "id": "d373c626",
   "metadata": {},
   "source": [
    "Customers are likely to click on an item multiples times."
   ]
  },
  {
   "cell_type": "code",
   "execution_count": 39,
   "id": "05af0c49",
   "metadata": {},
   "outputs": [
    {
     "name": "stdout",
     "output_type": "stream",
     "text": [
      "Maximum number of user-item pair duplicate behaviors: 129\n"
     ]
    }
   ],
   "source": [
    "# Counting the frequency of each duplicate row\n",
    "frequency = duplicate_rows_drop.groupby(list(df_drop.columns)).size()\n",
    "\n",
    "# Getting the maximum number of duplicates\n",
    "max_duplicates = frequency.max()\n",
    "\n",
    "print(\"Maximum number of user-item pair duplicate behaviors:\", max_duplicates)"
   ]
  },
  {
   "cell_type": "code",
   "execution_count": null,
   "id": "be3aabfc",
   "metadata": {},
   "outputs": [],
   "source": []
  },
  {
   "cell_type": "code",
   "execution_count": null,
   "id": "5306476f",
   "metadata": {},
   "outputs": [],
   "source": []
  }
 ],
 "metadata": {
  "kernelspec": {
   "display_name": "Python 3 (ipykernel)",
   "language": "python",
   "name": "python3"
  },
  "language_info": {
   "codemirror_mode": {
    "name": "ipython",
    "version": 3
   },
   "file_extension": ".py",
   "mimetype": "text/x-python",
   "name": "python",
   "nbconvert_exporter": "python",
   "pygments_lexer": "ipython3",
   "version": "3.9.7"
  }
 },
 "nbformat": 4,
 "nbformat_minor": 5
}
